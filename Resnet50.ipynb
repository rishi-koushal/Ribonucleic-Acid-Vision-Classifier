{
 "cells": [
  {
   "cell_type": "markdown",
   "metadata": {},
   "source": [
    "## RNA Classification Part 2"
   ]
  },
  {
   "cell_type": "markdown",
   "metadata": {},
   "source": [
    "Here, we're trying to create a dataset from the images obtained during the previous step. We're using a library called as 'Multilabelpigeon' that helps us labeling the images in an easier way"
   ]
  },
  {
   "cell_type": "markdown",
   "metadata": {},
   "source": [
    "## Step 2: Creating the Dataset using the images"
   ]
  },
  {
   "cell_type": "code",
   "execution_count": 2,
   "metadata": {},
   "outputs": [],
   "source": [
    "#!pip install multi-label-pigeon"
   ]
  },
  {
   "cell_type": "code",
   "execution_count": 4,
   "metadata": {},
   "outputs": [],
   "source": [
    "#!pip install pigeon-jupyter"
   ]
  },
  {
   "cell_type": "code",
   "execution_count": 1,
   "metadata": {},
   "outputs": [],
   "source": [
    "#Importing necessary libraries\n",
    "import pandas as pd\n",
    "import numpy as np\n",
    "from fastai.vision import *"
   ]
  },
  {
   "cell_type": "markdown",
   "metadata": {},
   "source": [
    "### Labeling the images, so that we avoid the false positives that are so certain.\n",
    "#Unlike other cells, you can try executing this below **2 cells** alone to understand how the labeling is done. If there's an error, do try to install the libraries given in the first two cells"
   ]
  },
  {
   "cell_type": "code",
   "execution_count": 19,
   "metadata": {},
   "outputs": [
    {
     "data": {
      "application/vnd.jupyter.widget-view+json": {
       "model_id": "17f1c55325934ed583d8aca5c0cacf7e",
       "version_major": 2,
       "version_minor": 0
      },
      "text/plain": [
       "HTML(value='0 examples annotated, 296 examples left')"
      ]
     },
     "metadata": {},
     "output_type": "display_data"
    },
    {
     "data": {
      "application/vnd.jupyter.widget-view+json": {
       "model_id": "3b794e0499714c9a8160ff101133cd81",
       "version_major": 2,
       "version_minor": 0
      },
      "text/plain": [
       "HBox(children=(Button(description='tRNA', style=ButtonStyle()), Button(description='miRNA', style=ButtonStyle(…"
      ]
     },
     "metadata": {},
     "output_type": "display_data"
    },
    {
     "data": {
      "application/vnd.jupyter.widget-view+json": {
       "model_id": "c152a61ed06e40ba926b2a2fd5c371e9",
       "version_major": 2,
       "version_minor": 0
      },
      "text/plain": [
       "Output()"
      ]
     },
     "metadata": {},
     "output_type": "display_data"
    },
    {
     "name": "stdout",
     "output_type": "stream",
     "text": [
      "Annotation done.\n"
     ]
    }
   ],
   "source": [
    "#Using multi label pigeon to label our data\n",
    "from multi_label_pigeon import multi_label_annotate\n",
    "from pigeon import annotate\n",
    "from IPython.display import display, Image\n",
    "images = []\n",
    "path = 'train/'\n",
    "for i in range(121,416):\n",
    "    images.append(path + str('i')+str(i)+'.png')\n",
    "\n",
    "annotations = annotate(images,\n",
    "    options=['tRNA','miRNA','Neither'],\n",
    "    display_fn=lambda filename: display(Image(filename))\n",
    "    )"
   ]
  },
  {
   "cell_type": "code",
   "execution_count": null,
   "metadata": {},
   "outputs": [],
   "source": []
  },
  {
   "cell_type": "code",
   "execution_count": 2,
   "metadata": {},
   "outputs": [
    {
     "data": {
      "application/vnd.jupyter.widget-view+json": {
       "model_id": "986dbdc920324557826c58878f8a0317",
       "version_major": 2,
       "version_minor": 0
      },
      "text/plain": [
       "HTML(value='0 examples annotated, 177 examples left')"
      ]
     },
     "metadata": {},
     "output_type": "display_data"
    },
    {
     "data": {
      "application/vnd.jupyter.widget-view+json": {
       "model_id": "78321fb336c646938f85c141a4d401f2",
       "version_major": 2,
       "version_minor": 0
      },
      "text/plain": [
       "HBox(children=(Button(description='tRNA', style=ButtonStyle()), Button(description='miRNA', style=ButtonStyle(…"
      ]
     },
     "metadata": {},
     "output_type": "display_data"
    },
    {
     "data": {
      "application/vnd.jupyter.widget-view+json": {
       "model_id": "31499c6af9e9487090874d2e7dec9c39",
       "version_major": 2,
       "version_minor": 0
      },
      "text/plain": [
       "Output()"
      ]
     },
     "metadata": {},
     "output_type": "display_data"
    }
   ],
   "source": [
    "from multi_label_pigeon import multi_label_annotate\n",
    "from IPython.display import display, Image\n",
    "images = []\n",
    "path = 'miRNA/folds/'\n",
    "for i in range(0,176):\n",
    "    images.append(path + str(i)+'.png')\n",
    "\n",
    "annotations2 = annotate(images,\n",
    "    options=['tRNA','miRNA','Neither'],\n",
    "    display_fn=lambda filename: display(Image(filename))\n",
    "    )"
   ]
  },
  {
   "cell_type": "code",
   "execution_count": 15,
   "metadata": {
    "collapsed": true
   },
   "outputs": [
    {
     "data": {
      "text/plain": [
       "[('train/i0.png', 'miRNA'),\n",
       " ('train/i1.png', 'Neither'),\n",
       " ('train/i2.png', 'miRNA'),\n",
       " ('train/i3.png', 'miRNA'),\n",
       " ('train/i4.png', 'miRNA'),\n",
       " ('train/i5.png', 'miRNA'),\n",
       " ('train/i6.png', 'miRNA'),\n",
       " ('train/i7.png', 'miRNA'),\n",
       " ('train/i8.png', 'miRNA'),\n",
       " ('train/i9.png', 'miRNA'),\n",
       " ('train/i10.png', 'miRNA'),\n",
       " ('train/i11.png', 'miRNA'),\n",
       " ('train/i12.png', 'miRNA'),\n",
       " ('train/i13.png', 'miRNA'),\n",
       " ('train/i14.png', 'Neither'),\n",
       " ('train/i15.png', 'miRNA'),\n",
       " ('train/i16.png', 'Neither'),\n",
       " ('train/i17.png', 'Neither'),\n",
       " ('train/i18.png', 'miRNA'),\n",
       " ('train/i19.png', 'miRNA'),\n",
       " ('train/i20.png', 'Neither'),\n",
       " ('train/i21.png', 'Neither'),\n",
       " ('train/i22.png', 'miRNA'),\n",
       " ('train/i23.png', 'miRNA'),\n",
       " ('train/i24.png', 'miRNA'),\n",
       " ('train/i25.png', 'Neither'),\n",
       " ('train/i26.png', 'miRNA'),\n",
       " ('train/i27.png', 'miRNA'),\n",
       " ('train/i28.png', 'miRNA'),\n",
       " ('train/i29.png', 'miRNA'),\n",
       " ('train/i30.png', 'Neither'),\n",
       " ('train/i31.png', 'Neither'),\n",
       " ('train/i32.png', 'miRNA'),\n",
       " ('train/i33.png', 'Neither'),\n",
       " ('train/i34.png', 'miRNA'),\n",
       " ('train/i35.png', 'miRNA'),\n",
       " ('train/i36.png', 'miRNA'),\n",
       " ('train/i37.png', 'miRNA'),\n",
       " ('train/i38.png', 'miRNA'),\n",
       " ('train/i39.png', 'miRNA'),\n",
       " ('train/i40.png', 'miRNA'),\n",
       " ('train/i41.png', 'miRNA'),\n",
       " ('train/i42.png', 'miRNA'),\n",
       " ('train/i43.png', 'miRNA'),\n",
       " ('train/i44.png', 'miRNA'),\n",
       " ('train/i45.png', 'miRNA'),\n",
       " ('train/i46.png', 'miRNA'),\n",
       " ('train/i47.png', 'miRNA'),\n",
       " ('train/i48.png', 'miRNA'),\n",
       " ('train/i49.png', 'miRNA'),\n",
       " ('train/i50.png', 'miRNA'),\n",
       " ('train/i51.png', 'miRNA'),\n",
       " ('train/i52.png', 'miRNA'),\n",
       " ('train/i53.png', 'miRNA'),\n",
       " ('train/i54.png', 'miRNA'),\n",
       " ('train/i55.png', 'miRNA'),\n",
       " ('train/i56.png', 'miRNA'),\n",
       " ('train/i57.png', 'miRNA'),\n",
       " ('train/i58.png', 'miRNA'),\n",
       " ('train/i59.png', 'miRNA'),\n",
       " ('train/i60.png', 'miRNA'),\n",
       " ('train/i61.png', 'miRNA'),\n",
       " ('train/i62.png', 'miRNA'),\n",
       " ('train/i63.png', 'miRNA'),\n",
       " ('train/i64.png', 'Neither'),\n",
       " ('train/i65.png', 'miRNA'),\n",
       " ('train/i66.png', 'miRNA'),\n",
       " ('train/i67.png', 'Neither'),\n",
       " ('train/i68.png', 'miRNA'),\n",
       " ('train/i69.png', 'miRNA'),\n",
       " ('train/i70.png', 'miRNA'),\n",
       " ('train/i71.png', 'Neither'),\n",
       " ('train/i72.png', 'miRNA'),\n",
       " ('train/i73.png', 'miRNA'),\n",
       " ('train/i74.png', 'miRNA'),\n",
       " ('train/i75.png', 'Neither'),\n",
       " ('train/i76.png', 'miRNA'),\n",
       " ('train/i77.png', 'miRNA'),\n",
       " ('train/i78.png', 'miRNA'),\n",
       " ('train/i79.png', 'miRNA'),\n",
       " ('train/i80.png', 'miRNA'),\n",
       " ('train/i81.png', 'miRNA'),\n",
       " ('train/i82.png', 'miRNA'),\n",
       " ('train/i83.png', 'miRNA'),\n",
       " ('train/i84.png', 'Neither'),\n",
       " ('train/i85.png', 'miRNA'),\n",
       " ('train/i86.png', 'miRNA'),\n",
       " ('train/i87.png', 'miRNA'),\n",
       " ('train/i88.png', 'miRNA'),\n",
       " ('train/i89.png', 'miRNA'),\n",
       " ('train/i90.png', 'miRNA'),\n",
       " ('train/i91.png', 'Neither'),\n",
       " ('train/i92.png', 'miRNA'),\n",
       " ('train/i93.png', 'miRNA'),\n",
       " ('train/i94.png', 'miRNA'),\n",
       " ('train/i95.png', 'Neither'),\n",
       " ('train/i96.png', 'Neither'),\n",
       " ('train/i97.png', 'tRNA'),\n",
       " ('train/i98.png', 'tRNA'),\n",
       " ('train/i99.png', 'tRNA'),\n",
       " ('train/i100.png', 'tRNA'),\n",
       " ('train/i101.png', 'tRNA'),\n",
       " ('train/i102.png', 'Neither'),\n",
       " ('train/i103.png', 'Neither'),\n",
       " ('train/i104.png', 'Neither'),\n",
       " ('train/i105.png', 'tRNA'),\n",
       " ('train/i106.png', 'tRNA'),\n",
       " ('train/i107.png', 'tRNA'),\n",
       " ('train/i108.png', 'tRNA'),\n",
       " ('train/i109.png', 'Neither'),\n",
       " ('train/i110.png', 'Neither'),\n",
       " ('train/i111.png', 'tRNA'),\n",
       " ('train/i112.png', 'tRNA'),\n",
       " ('train/i113.png', 'Neither'),\n",
       " ('train/i114.png', 'tRNA'),\n",
       " ('train/i115.png', 'Neither'),\n",
       " ('train/i116.png', 'miRNA'),\n",
       " ('train/i117.png', 'tRNA')]"
      ]
     },
     "execution_count": 15,
     "metadata": {},
     "output_type": "execute_result"
    }
   ],
   "source": [
    "one_to_118"
   ]
  },
  {
   "cell_type": "code",
   "execution_count": 18,
   "metadata": {},
   "outputs": [
    {
     "data": {
      "text/plain": [
       "[('train/i118.png', 'Neither'), ('train/i119.png', 'Neither')]"
      ]
     },
     "execution_count": 18,
     "metadata": {},
     "output_type": "execute_result"
    }
   ],
   "source": [
    "o118and119 "
   ]
  },
  {
   "cell_type": "code",
   "execution_count": 20,
   "metadata": {},
   "outputs": [],
   "source": [
    "o121toend= annotations"
   ]
  },
  {
   "cell_type": "markdown",
   "metadata": {},
   "source": [
    "### Creating a dataframe from the image name and the labels"
   ]
  },
  {
   "cell_type": "code",
   "execution_count": 22,
   "metadata": {
    "scrolled": true
   },
   "outputs": [],
   "source": [
    "names = []\n",
    "labels = []\n",
    "for i in one_to_118:\n",
    "    names.append(i[0].split('/')[-1])\n",
    "    labels.append(i[1])"
   ]
  },
  {
   "cell_type": "code",
   "execution_count": 23,
   "metadata": {},
   "outputs": [],
   "source": [
    "data = list(zip(names,labels))\n",
    "df = pd.DataFrame(data, columns=['img', 'type'])"
   ]
  },
  {
   "cell_type": "code",
   "execution_count": 24,
   "metadata": {},
   "outputs": [
    {
     "data": {
      "text/html": [
       "<div>\n",
       "<style scoped>\n",
       "    .dataframe tbody tr th:only-of-type {\n",
       "        vertical-align: middle;\n",
       "    }\n",
       "\n",
       "    .dataframe tbody tr th {\n",
       "        vertical-align: top;\n",
       "    }\n",
       "\n",
       "    .dataframe thead th {\n",
       "        text-align: right;\n",
       "    }\n",
       "</style>\n",
       "<table border=\"1\" class=\"dataframe\">\n",
       "  <thead>\n",
       "    <tr style=\"text-align: right;\">\n",
       "      <th></th>\n",
       "      <th>img</th>\n",
       "      <th>type</th>\n",
       "    </tr>\n",
       "  </thead>\n",
       "  <tbody>\n",
       "    <tr>\n",
       "      <th>0</th>\n",
       "      <td>i0.png</td>\n",
       "      <td>miRNA</td>\n",
       "    </tr>\n",
       "    <tr>\n",
       "      <th>1</th>\n",
       "      <td>i1.png</td>\n",
       "      <td>Neither</td>\n",
       "    </tr>\n",
       "    <tr>\n",
       "      <th>2</th>\n",
       "      <td>i2.png</td>\n",
       "      <td>miRNA</td>\n",
       "    </tr>\n",
       "    <tr>\n",
       "      <th>3</th>\n",
       "      <td>i3.png</td>\n",
       "      <td>miRNA</td>\n",
       "    </tr>\n",
       "    <tr>\n",
       "      <th>4</th>\n",
       "      <td>i4.png</td>\n",
       "      <td>miRNA</td>\n",
       "    </tr>\n",
       "  </tbody>\n",
       "</table>\n",
       "</div>"
      ],
      "text/plain": [
       "      img     type\n",
       "0  i0.png    miRNA\n",
       "1  i1.png  Neither\n",
       "2  i2.png    miRNA\n",
       "3  i3.png    miRNA\n",
       "4  i4.png    miRNA"
      ]
     },
     "execution_count": 24,
     "metadata": {},
     "output_type": "execute_result"
    }
   ],
   "source": [
    "df.head()"
   ]
  },
  {
   "cell_type": "code",
   "execution_count": 25,
   "metadata": {},
   "outputs": [],
   "source": [
    "df2 = df"
   ]
  },
  {
   "cell_type": "code",
   "execution_count": 39,
   "metadata": {},
   "outputs": [
    {
     "data": {
      "text/html": [
       "<div>\n",
       "<style scoped>\n",
       "    .dataframe tbody tr th:only-of-type {\n",
       "        vertical-align: middle;\n",
       "    }\n",
       "\n",
       "    .dataframe tbody tr th {\n",
       "        vertical-align: top;\n",
       "    }\n",
       "\n",
       "    .dataframe thead th {\n",
       "        text-align: right;\n",
       "    }\n",
       "</style>\n",
       "<table border=\"1\" class=\"dataframe\">\n",
       "  <thead>\n",
       "    <tr style=\"text-align: right;\">\n",
       "      <th></th>\n",
       "      <th>img</th>\n",
       "      <th>type</th>\n",
       "    </tr>\n",
       "  </thead>\n",
       "  <tbody>\n",
       "    <tr>\n",
       "      <th>115</th>\n",
       "      <td>i115.png</td>\n",
       "      <td>Neither</td>\n",
       "    </tr>\n",
       "    <tr>\n",
       "      <th>116</th>\n",
       "      <td>i116.png</td>\n",
       "      <td>miRNA</td>\n",
       "    </tr>\n",
       "    <tr>\n",
       "      <th>117</th>\n",
       "      <td>i117.png</td>\n",
       "      <td>tRNA</td>\n",
       "    </tr>\n",
       "    <tr>\n",
       "      <th>118</th>\n",
       "      <td>i118.png</td>\n",
       "      <td>Neither</td>\n",
       "    </tr>\n",
       "    <tr>\n",
       "      <th>119</th>\n",
       "      <td>i119.png</td>\n",
       "      <td>Neither</td>\n",
       "    </tr>\n",
       "  </tbody>\n",
       "</table>\n",
       "</div>"
      ],
      "text/plain": [
       "          img     type\n",
       "115  i115.png  Neither\n",
       "116  i116.png    miRNA\n",
       "117  i117.png     tRNA\n",
       "118  i118.png  Neither\n",
       "119  i119.png  Neither"
      ]
     },
     "execution_count": 39,
     "metadata": {},
     "output_type": "execute_result"
    }
   ],
   "source": [
    "df2.tail()"
   ]
  },
  {
   "cell_type": "code",
   "execution_count": 38,
   "metadata": {},
   "outputs": [],
   "source": [
    "df.loc[118+1] = [names[1]]+[labels[1]]"
   ]
  },
  {
   "cell_type": "code",
   "execution_count": 49,
   "metadata": {},
   "outputs": [],
   "source": [
    "for i in range(0,295):\n",
    "    df.loc[120+i] = [names[i]]+[labels[i]]"
   ]
  },
  {
   "cell_type": "code",
   "execution_count": 50,
   "metadata": {},
   "outputs": [
    {
     "data": {
      "text/html": [
       "<div>\n",
       "<style scoped>\n",
       "    .dataframe tbody tr th:only-of-type {\n",
       "        vertical-align: middle;\n",
       "    }\n",
       "\n",
       "    .dataframe tbody tr th {\n",
       "        vertical-align: top;\n",
       "    }\n",
       "\n",
       "    .dataframe thead th {\n",
       "        text-align: right;\n",
       "    }\n",
       "</style>\n",
       "<table border=\"1\" class=\"dataframe\">\n",
       "  <thead>\n",
       "    <tr style=\"text-align: right;\">\n",
       "      <th></th>\n",
       "      <th>img</th>\n",
       "      <th>type</th>\n",
       "    </tr>\n",
       "  </thead>\n",
       "  <tbody>\n",
       "    <tr>\n",
       "      <th>410</th>\n",
       "      <td>i411.png</td>\n",
       "      <td>miRNA</td>\n",
       "    </tr>\n",
       "    <tr>\n",
       "      <th>411</th>\n",
       "      <td>i412.png</td>\n",
       "      <td>miRNA</td>\n",
       "    </tr>\n",
       "    <tr>\n",
       "      <th>412</th>\n",
       "      <td>i413.png</td>\n",
       "      <td>miRNA</td>\n",
       "    </tr>\n",
       "    <tr>\n",
       "      <th>413</th>\n",
       "      <td>i414.png</td>\n",
       "      <td>miRNA</td>\n",
       "    </tr>\n",
       "    <tr>\n",
       "      <th>414</th>\n",
       "      <td>i415.png</td>\n",
       "      <td>miRNA</td>\n",
       "    </tr>\n",
       "  </tbody>\n",
       "</table>\n",
       "</div>"
      ],
      "text/plain": [
       "          img   type\n",
       "410  i411.png  miRNA\n",
       "411  i412.png  miRNA\n",
       "412  i413.png  miRNA\n",
       "413  i414.png  miRNA\n",
       "414  i415.png  miRNA"
      ]
     },
     "execution_count": 50,
     "metadata": {},
     "output_type": "execute_result"
    }
   ],
   "source": [
    "df.tail()"
   ]
  },
  {
   "cell_type": "code",
   "execution_count": 40,
   "metadata": {},
   "outputs": [],
   "source": [
    "names = []\n",
    "labels = []\n",
    "for i in o121toend:\n",
    "    names.append(i[0].split('/')[-1])\n",
    "    labels.append(i[1])"
   ]
  },
  {
   "cell_type": "code",
   "execution_count": 51,
   "metadata": {},
   "outputs": [
    {
     "data": {
      "text/plain": [
       "miRNA      207\n",
       "Neither    126\n",
       "tRNA        82\n",
       "Name: type, dtype: int64"
      ]
     },
     "execution_count": 51,
     "metadata": {},
     "output_type": "execute_result"
    }
   ],
   "source": [
    "df['type'].value_counts()"
   ]
  },
  {
   "cell_type": "code",
   "execution_count": 52,
   "metadata": {},
   "outputs": [],
   "source": [
    "a  = df.to_csv ('latest_labels.csv')"
   ]
  },
  {
   "cell_type": "markdown",
   "metadata": {},
   "source": [
    "### Thus we have a dataset with images and labels, we can move on to building a model. "
   ]
  },
  {
   "cell_type": "markdown",
   "metadata": {},
   "source": [
    "# Step 3: Building the model"
   ]
  },
  {
   "cell_type": "code",
   "execution_count": 2,
   "metadata": {},
   "outputs": [],
   "source": [
    "df = pd.read_csv('latest_labels.csv')"
   ]
  },
  {
   "cell_type": "code",
   "execution_count": 3,
   "metadata": {},
   "outputs": [],
   "source": [
    "# Using the fast ai ImageDataBunch to get the data. Since we have the folder structure, not using the labels. But \n",
    "# in future, we could use the labels"
   ]
  },
  {
   "cell_type": "code",
   "execution_count": 4,
   "metadata": {},
   "outputs": [],
   "source": [
    "path = 'train/'\n",
    "np.random.seed(42)\n",
    "data = ImageDataBunch.from_df(path,df=df, fn_col='img', label_col='type',  valid_pct=0.2,\n",
    "                                  ds_tfms=get_transforms(),num_workers=0, size=256, bs=9)"
   ]
  },
  {
   "cell_type": "code",
   "execution_count": 5,
   "metadata": {},
   "outputs": [
    {
     "data": {
      "text/plain": [
       "['Neither', 'miRNA', 'tRNA']"
      ]
     },
     "execution_count": 5,
     "metadata": {},
     "output_type": "execute_result"
    }
   ],
   "source": [
    "#Look at the classes\n",
    "data.classes"
   ]
  },
  {
   "cell_type": "code",
   "execution_count": 6,
   "metadata": {},
   "outputs": [
    {
     "data": {
      "image/png": "[encoded data removed]",
      "text/plain": [
       "<Figure size 504x576 with 9 Axes>"
      ]
     },
     "metadata": {
      "needs_background": "light"
     },
     "output_type": "display_data"
    }
   ],
   "source": [
    "data.show_batch(rows=3, figsize=(7, 8))"
   ]
  },
  {
   "cell_type": "code",
   "execution_count": 9,
   "metadata": {},
   "outputs": [
    {
     "name": "stderr",
     "output_type": "stream",
     "text": [
      "Downloading: \"https://download.pytorch.org/models/resnet50-19c8e357.pth\" to /Users/rishikoushal/.cache/torch/checkpoints/resnet50-19c8e357.pth\n",
      "100%|██████████| 97.8M/97.8M [00:05<00:00, 18.7MB/s]\n"
     ]
    }
   ],
   "source": [
    "#Using a pre trained model resnet (34 layer) we create a model\n",
    "learn_resnet50=cnn_learner(data, models.resnet50, metrics=accuracy)"
   ]
  },
  {
   "cell_type": "code",
   "execution_count": 10,
   "metadata": {},
   "outputs": [],
   "source": [
    "learn_resnet50.freeze()"
   ]
  },
  {
   "cell_type": "code",
   "execution_count": 11,
   "metadata": {},
   "outputs": [
    {
     "data": {
      "text/html": [],
      "text/plain": [
       "<IPython.core.display.HTML object>"
      ]
     },
     "metadata": {},
     "output_type": "display_data"
    },
    {
     "name": "stdout",
     "output_type": "stream",
     "text": [
      "LR Finder is complete, type {learner_name}.recorder.plot() to see the graph.\n"
     ]
    }
   ],
   "source": [
    "learn_resnet50.lr_find()"
   ]
  },
  {
   "cell_type": "code",
   "execution_count": 69,
   "metadata": {},
   "outputs": [
    {
     "data": {
      "image/png": "[encoded data removed]",
      "text/plain": [
       "<Figure size 432x288 with 1 Axes>"
      ]
     },
     "metadata": {
      "needs_background": "light"
     },
     "output_type": "display_data"
    }
   ],
   "source": [
    "#We could see the curve for learning, which is not really smooth, but conisderable\n",
    "learn_resnet34.recorder.plot()"
   ]
  },
  {
   "cell_type": "code",
   "execution_count": null,
   "metadata": {},
   "outputs": [
    {
     "data": {
      "text/html": [
       "\n",
       "    <div>\n",
       "        <style>\n",
       "            /* Turns off some styling */\n",
       "            progress {\n",
       "                /* gets rid of default border in Firefox and Opera. */\n",
       "                border: none;\n",
       "                /* Needs to be in here for Safari polyfill so background images work as expected. */\n",
       "                background-size: auto;\n",
       "            }\n",
       "            .progress-bar-interrupted, .progress-bar-interrupted::-webkit-progress-bar {\n",
       "                background: #F44336;\n",
       "            }\n",
       "        </style>\n",
       "      <progress value='2' class='' max='8', style='width:300px; height:20px; vertical-align: middle;'></progress>\n",
       "      25.00% [2/8 04:43<14:09]\n",
       "    </div>\n",
       "    \n",
       "<table border=\"1\" class=\"dataframe\">\n",
       "  <thead>\n",
       "    <tr style=\"text-align: left;\">\n",
       "      <th>epoch</th>\n",
       "      <th>train_loss</th>\n",
       "      <th>valid_loss</th>\n",
       "      <th>accuracy</th>\n",
       "      <th>time</th>\n",
       "    </tr>\n",
       "  </thead>\n",
       "  <tbody>\n",
       "    <tr>\n",
       "      <td>0</td>\n",
       "      <td>1.336469</td>\n",
       "      <td>0.758720</td>\n",
       "      <td>0.710843</td>\n",
       "      <td>02:22</td>\n",
       "    </tr>\n",
       "    <tr>\n",
       "      <td>1</td>\n",
       "      <td>1.033346</td>\n",
       "      <td>0.504496</td>\n",
       "      <td>0.855422</td>\n",
       "      <td>02:20</td>\n",
       "    </tr>\n",
       "  </tbody>\n",
       "</table><p>\n",
       "\n",
       "    <div>\n",
       "        <style>\n",
       "            /* Turns off some styling */\n",
       "            progress {\n",
       "                /* gets rid of default border in Firefox and Opera. */\n",
       "                border: none;\n",
       "                /* Needs to be in here for Safari polyfill so background images work as expected. */\n",
       "                background-size: auto;\n",
       "            }\n",
       "            .progress-bar-interrupted, .progress-bar-interrupted::-webkit-progress-bar {\n",
       "                background: #F44336;\n",
       "            }\n",
       "        </style>\n",
       "      <progress value='34' class='' max='36', style='width:300px; height:20px; vertical-align: middle;'></progress>\n",
       "      94.44% [34/36 01:58<00:06 0.9637]\n",
       "    </div>\n",
       "    "
      ],
      "text/plain": [
       "<IPython.core.display.HTML object>"
      ]
     },
     "metadata": {},
     "output_type": "display_data"
    }
   ],
   "source": [
    "#Fit one cycle on the data, with a specific learning rate range\n",
    "lr=5e-3\n",
    "learn_resnet34.fit_one_cycle(8, slice(lr/10, lr))"
   ]
  },
  {
   "cell_type": "code",
   "execution_count": null,
   "metadata": {},
   "outputs": [],
   "source": [
    "learn_resnet34.unfreeze()"
   ]
  },
  {
   "cell_type": "code",
   "execution_count": null,
   "metadata": {},
   "outputs": [],
   "source": [
    "lr=5e-3\n",
    "learn_resnet34.fit_one_cycle(8, slice(lr/10, lr))"
   ]
  },
  {
   "cell_type": "code",
   "execution_count": null,
   "metadata": {},
   "outputs": [],
   "source": [
    "#Look for the confusion matrix and observe the false positives\n",
    "interp=ClassificationInterpretation.from_learner(learn)"
   ]
  },
  {
   "cell_type": "code",
   "execution_count": null,
   "metadata": {},
   "outputs": [],
   "source": [
    "interp.plot_confusion_matrix(figsize=(6,6))"
   ]
  },
  {
   "cell_type": "code",
   "execution_count": null,
   "metadata": {},
   "outputs": [],
   "source": [
    "#Helps us to analyze how the model has performed\n",
    "interp.plot_top_losses(k=9, figsize=(12, 8))"
   ]
  },
  {
   "cell_type": "code",
   "execution_count": 18,
   "metadata": {},
   "outputs": [
    {
     "data": {
      "application/vnd.jupyter.widget-view+json": {
       "model_id": "868baa36fc714bf69f321508f8514a0e",
       "version_major": 2,
       "version_minor": 0
      },
      "text/plain": [
       "HBox(children=(VBox(children=(Image(value=b'\\xff\\xd8\\xff\\xe0\\x00\\x10JFIF\\x00\\x01\\x01\\x01\\x00d\\x00d\\x00\\x00\\xff…"
      ]
     },
     "metadata": {},
     "output_type": "display_data"
    },
    {
     "data": {
      "application/vnd.jupyter.widget-view+json": {
       "model_id": "4fa16bdc78be410a94b5fbcfbc19fee4",
       "version_major": 2,
       "version_minor": 0
      },
      "text/plain": [
       "Button(button_style='primary', description='Next Batch', layout=Layout(width='auto'), style=ButtonStyle())"
      ]
     },
     "metadata": {},
     "output_type": "display_data"
    },
    {
     "data": {
      "text/plain": [
       "<fastai.widgets.image_cleaner.ImageCleaner at 0x1a37183a58>"
      ]
     },
     "execution_count": 18,
     "metadata": {},
     "output_type": "execute_result"
    }
   ],
   "source": [
    "# We can update our dataset by removing some images\n",
    "from fastai.widgets import *\n",
    "\n",
    "ds, idxs = DatasetFormatter().from_toplosses(learn)\n",
    "ImageCleaner(ds, idxs, path)"
   ]
  },
  {
   "cell_type": "markdown",
   "metadata": {},
   "source": [
    "## Conclusion and Comments:\n",
    "\n",
    "Though we obtained a fairly achievable model with ~90% accuracy, we face some problems in our data:\n",
    "\n",
    "1. We can see that there are a lot of miRNA images, but a very little tRNA images. We can improve a lot, if we have some more tRNA sequences\n",
    "\n",
    "2. We obtain the data from the gtrandb, who claim that there are some false positives in the sequence data. Thus, this could be a problem for us because when we fold those particular sequences, we won't get the clover shaped structure.\n",
    "\n",
    "3. A lot of tRNA aren't looking like a clover shaped structure, which might be a problem that stops the model performing better."
   ]
  },
  {
   "cell_type": "code",
   "execution_count": null,
   "metadata": {},
   "outputs": [],
   "source": []
  }
 ],
 "metadata": {
  "kernelspec": {
   "display_name": "Python 3",
   "language": "python",
   "name": "python3"
  },
  "language_info": {
   "codemirror_mode": {
    "name": "ipython",
    "version": 3
   },
   "file_extension": ".py",
   "mimetype": "text/x-python",
   "name": "python",
   "nbconvert_exporter": "python",
   "pygments_lexer": "ipython3",
   "version": "3.6.8"
  }
 },
 "nbformat": 4,
 "nbformat_minor": 2
}
