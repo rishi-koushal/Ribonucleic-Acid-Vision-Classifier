{
 "cells": [
  {
   "cell_type": "markdown",
   "metadata": {},
   "source": [
    "## RNA Classification Part 2"
   ]
  },
  {
   "cell_type": "markdown",
   "metadata": {},
   "source": [
    "Here, we're trying to create a dataset from the images obtained during the previous step. We're using a library called as 'Multilabelpigeon' that helps us labeling the images in an easier way"
   ]
  },
  {
   "cell_type": "markdown",
   "metadata": {},
   "source": [
    "## Step 2: Creating the Dataset using the images"
   ]
  },
  {
   "cell_type": "code",
   "execution_count": 4,
   "metadata": {},
   "outputs": [
    {
     "name": "stdout",
     "output_type": "stream",
     "text": [
      "Requirement already satisfied: multi-label-pigeon in /Users/rishikoushal/anaconda3/lib/python3.6/site-packages (0.2.0)\n",
      "Requirement already satisfied: ipywidgets in /Users/rishikoushal/anaconda3/lib/python3.6/site-packages (from multi-label-pigeon) (7.4.2)\n",
      "Requirement already satisfied: ipython>=4.0.0; python_version >= \"3.3\" in /Users/rishikoushal/anaconda3/lib/python3.6/site-packages (from ipywidgets->multi-label-pigeon) (7.2.0)\n",
      "Requirement already satisfied: nbformat>=4.2.0 in /Users/rishikoushal/anaconda3/lib/python3.6/site-packages (from ipywidgets->multi-label-pigeon) (4.4.0)\n",
      "Requirement already satisfied: ipykernel>=4.5.1 in /Users/rishikoushal/anaconda3/lib/python3.6/site-packages (from ipywidgets->multi-label-pigeon) (5.1.0)\n",
      "Requirement already satisfied: widgetsnbextension~=3.4.0 in /Users/rishikoushal/anaconda3/lib/python3.6/site-packages (from ipywidgets->multi-label-pigeon) (3.4.2)\n",
      "Requirement already satisfied: traitlets>=4.3.1 in /Users/rishikoushal/anaconda3/lib/python3.6/site-packages (from ipywidgets->multi-label-pigeon) (4.3.2)\n",
      "Requirement already satisfied: appnope; sys_platform == \"darwin\" in /Users/rishikoushal/anaconda3/lib/python3.6/site-packages (from ipython>=4.0.0; python_version >= \"3.3\"->ipywidgets->multi-label-pigeon) (0.1.0)\n",
      "Requirement already satisfied: backcall in /Users/rishikoushal/anaconda3/lib/python3.6/site-packages (from ipython>=4.0.0; python_version >= \"3.3\"->ipywidgets->multi-label-pigeon) (0.1.0)\n",
      "Requirement already satisfied: prompt-toolkit<2.1.0,>=2.0.0 in /Users/rishikoushal/anaconda3/lib/python3.6/site-packages (from ipython>=4.0.0; python_version >= \"3.3\"->ipywidgets->multi-label-pigeon) (2.0.7)\n",
      "Requirement already satisfied: decorator in /Users/rishikoushal/anaconda3/lib/python3.6/site-packages (from ipython>=4.0.0; python_version >= \"3.3\"->ipywidgets->multi-label-pigeon) (4.3.0)\n",
      "Requirement already satisfied: pickleshare in /Users/rishikoushal/anaconda3/lib/python3.6/site-packages (from ipython>=4.0.0; python_version >= \"3.3\"->ipywidgets->multi-label-pigeon) (0.7.5)\n",
      "Requirement already satisfied: pygments in /Users/rishikoushal/anaconda3/lib/python3.6/site-packages (from ipython>=4.0.0; python_version >= \"3.3\"->ipywidgets->multi-label-pigeon) (2.3.1)\n",
      "Requirement already satisfied: pexpect; sys_platform != \"win32\" in /Users/rishikoushal/anaconda3/lib/python3.6/site-packages (from ipython>=4.0.0; python_version >= \"3.3\"->ipywidgets->multi-label-pigeon) (4.6.0)\n",
      "Requirement already satisfied: setuptools>=18.5 in /Users/rishikoushal/anaconda3/lib/python3.6/site-packages (from ipython>=4.0.0; python_version >= \"3.3\"->ipywidgets->multi-label-pigeon) (39.1.0)\n",
      "Requirement already satisfied: jedi>=0.10 in /Users/rishikoushal/anaconda3/lib/python3.6/site-packages (from ipython>=4.0.0; python_version >= \"3.3\"->ipywidgets->multi-label-pigeon) (0.13.2)\n",
      "Requirement already satisfied: ipython_genutils in /Users/rishikoushal/anaconda3/lib/python3.6/site-packages (from nbformat>=4.2.0->ipywidgets->multi-label-pigeon) (0.2.0)\n",
      "Requirement already satisfied: jsonschema!=2.5.0,>=2.4 in /Users/rishikoushal/anaconda3/lib/python3.6/site-packages (from nbformat>=4.2.0->ipywidgets->multi-label-pigeon) (2.6.0)\n",
      "Requirement already satisfied: jupyter_core in /Users/rishikoushal/anaconda3/lib/python3.6/site-packages (from nbformat>=4.2.0->ipywidgets->multi-label-pigeon) (4.4.0)\n",
      "Requirement already satisfied: tornado>=4.2 in /Users/rishikoushal/anaconda3/lib/python3.6/site-packages (from ipykernel>=4.5.1->ipywidgets->multi-label-pigeon) (5.1.1)\n",
      "Requirement already satisfied: jupyter-client in /Users/rishikoushal/anaconda3/lib/python3.6/site-packages (from ipykernel>=4.5.1->ipywidgets->multi-label-pigeon) (5.2.4)\n",
      "Requirement already satisfied: notebook>=4.4.1 in /Users/rishikoushal/anaconda3/lib/python3.6/site-packages (from widgetsnbextension~=3.4.0->ipywidgets->multi-label-pigeon) (5.7.4)\n",
      "Requirement already satisfied: six in /Users/rishikoushal/anaconda3/lib/python3.6/site-packages (from traitlets>=4.3.1->ipywidgets->multi-label-pigeon) (1.10.0)\n",
      "Requirement already satisfied: wcwidth in /Users/rishikoushal/anaconda3/lib/python3.6/site-packages (from prompt-toolkit<2.1.0,>=2.0.0->ipython>=4.0.0; python_version >= \"3.3\"->ipywidgets->multi-label-pigeon) (0.1.7)\n",
      "Requirement already satisfied: ptyprocess>=0.5 in /Users/rishikoushal/anaconda3/lib/python3.6/site-packages (from pexpect; sys_platform != \"win32\"->ipython>=4.0.0; python_version >= \"3.3\"->ipywidgets->multi-label-pigeon) (0.6.0)\n",
      "Requirement already satisfied: parso>=0.3.0 in /Users/rishikoushal/anaconda3/lib/python3.6/site-packages (from jedi>=0.10->ipython>=4.0.0; python_version >= \"3.3\"->ipywidgets->multi-label-pigeon) (0.3.1)\n",
      "Requirement already satisfied: python-dateutil>=2.1 in /Users/rishikoushal/anaconda3/lib/python3.6/site-packages (from jupyter-client->ipykernel>=4.5.1->ipywidgets->multi-label-pigeon) (2.7.5)\n",
      "Requirement already satisfied: pyzmq>=13 in /Users/rishikoushal/anaconda3/lib/python3.6/site-packages (from jupyter-client->ipykernel>=4.5.1->ipywidgets->multi-label-pigeon) (17.1.2)\n",
      "Requirement already satisfied: prometheus-client in /Users/rishikoushal/anaconda3/lib/python3.6/site-packages (from notebook>=4.4.1->widgetsnbextension~=3.4.0->ipywidgets->multi-label-pigeon) (0.5.0)\n",
      "Requirement already satisfied: terminado>=0.8.1 in /Users/rishikoushal/anaconda3/lib/python3.6/site-packages (from notebook>=4.4.1->widgetsnbextension~=3.4.0->ipywidgets->multi-label-pigeon) (0.8.1)\n",
      "Requirement already satisfied: Send2Trash in /Users/rishikoushal/anaconda3/lib/python3.6/site-packages (from notebook>=4.4.1->widgetsnbextension~=3.4.0->ipywidgets->multi-label-pigeon) (1.5.0)\n",
      "Requirement already satisfied: jinja2 in /Users/rishikoushal/anaconda3/lib/python3.6/site-packages (from notebook>=4.4.1->widgetsnbextension~=3.4.0->ipywidgets->multi-label-pigeon) (2.10)\n",
      "Requirement already satisfied: nbconvert in /Users/rishikoushal/anaconda3/lib/python3.6/site-packages (from notebook>=4.4.1->widgetsnbextension~=3.4.0->ipywidgets->multi-label-pigeon) (5.4.0)\n",
      "Requirement already satisfied: MarkupSafe>=0.23 in /Users/rishikoushal/anaconda3/lib/python3.6/site-packages (from jinja2->notebook>=4.4.1->widgetsnbextension~=3.4.0->ipywidgets->multi-label-pigeon) (1.1.0)\n",
      "Requirement already satisfied: mistune>=0.8.1 in /Users/rishikoushal/anaconda3/lib/python3.6/site-packages (from nbconvert->notebook>=4.4.1->widgetsnbextension~=3.4.0->ipywidgets->multi-label-pigeon) (0.8.4)\n",
      "Requirement already satisfied: entrypoints>=0.2.2 in /Users/rishikoushal/anaconda3/lib/python3.6/site-packages (from nbconvert->notebook>=4.4.1->widgetsnbextension~=3.4.0->ipywidgets->multi-label-pigeon) (0.3)\n",
      "Requirement already satisfied: bleach in /Users/rishikoushal/anaconda3/lib/python3.6/site-packages (from nbconvert->notebook>=4.4.1->widgetsnbextension~=3.4.0->ipywidgets->multi-label-pigeon) (1.5.0)\n",
      "Requirement already satisfied: pandocfilters>=1.4.1 in /Users/rishikoushal/anaconda3/lib/python3.6/site-packages (from nbconvert->notebook>=4.4.1->widgetsnbextension~=3.4.0->ipywidgets->multi-label-pigeon) (1.4.2)\n",
      "Requirement already satisfied: testpath in /Users/rishikoushal/anaconda3/lib/python3.6/site-packages (from nbconvert->notebook>=4.4.1->widgetsnbextension~=3.4.0->ipywidgets->multi-label-pigeon) (0.4.2)\n",
      "Requirement already satisfied: defusedxml in /Users/rishikoushal/anaconda3/lib/python3.6/site-packages (from nbconvert->notebook>=4.4.1->widgetsnbextension~=3.4.0->ipywidgets->multi-label-pigeon) (0.5.0)\n",
      "Requirement already satisfied: html5lib!=0.9999,!=0.99999,<0.99999999,>=0.999 in /Users/rishikoushal/anaconda3/lib/python3.6/site-packages (from bleach->nbconvert->notebook>=4.4.1->widgetsnbextension~=3.4.0->ipywidgets->multi-label-pigeon) (0.9999999)\n"
     ]
    }
   ],
   "source": [
    "!pip install multi-label-pigeon"
   ]
  },
  {
   "cell_type": "code",
   "execution_count": 5,
   "metadata": {},
   "outputs": [
    {
     "name": "stdout",
     "output_type": "stream",
     "text": [
      "Requirement already satisfied: pigeon-jupyter in /Users/rishikoushal/anaconda3/lib/python3.6/site-packages (0.1.0)\n",
      "Requirement already satisfied: ipywidgets in /Users/rishikoushal/anaconda3/lib/python3.6/site-packages (from pigeon-jupyter) (7.4.2)\n",
      "Requirement already satisfied: widgetsnbextension~=3.4.0 in /Users/rishikoushal/anaconda3/lib/python3.6/site-packages (from ipywidgets->pigeon-jupyter) (3.4.2)\n",
      "Requirement already satisfied: ipykernel>=4.5.1 in /Users/rishikoushal/anaconda3/lib/python3.6/site-packages (from ipywidgets->pigeon-jupyter) (5.1.0)\n",
      "Requirement already satisfied: nbformat>=4.2.0 in /Users/rishikoushal/anaconda3/lib/python3.6/site-packages (from ipywidgets->pigeon-jupyter) (4.4.0)\n",
      "Requirement already satisfied: ipython>=4.0.0; python_version >= \"3.3\" in /Users/rishikoushal/anaconda3/lib/python3.6/site-packages (from ipywidgets->pigeon-jupyter) (7.2.0)\n",
      "Requirement already satisfied: traitlets>=4.3.1 in /Users/rishikoushal/anaconda3/lib/python3.6/site-packages (from ipywidgets->pigeon-jupyter) (4.3.2)\n",
      "Requirement already satisfied: notebook>=4.4.1 in /Users/rishikoushal/anaconda3/lib/python3.6/site-packages (from widgetsnbextension~=3.4.0->ipywidgets->pigeon-jupyter) (5.7.4)\n",
      "Requirement already satisfied: jupyter-client in /Users/rishikoushal/anaconda3/lib/python3.6/site-packages (from ipykernel>=4.5.1->ipywidgets->pigeon-jupyter) (5.2.4)\n",
      "Requirement already satisfied: tornado>=4.2 in /Users/rishikoushal/anaconda3/lib/python3.6/site-packages (from ipykernel>=4.5.1->ipywidgets->pigeon-jupyter) (5.1.1)\n",
      "Requirement already satisfied: ipython_genutils in /Users/rishikoushal/anaconda3/lib/python3.6/site-packages (from nbformat>=4.2.0->ipywidgets->pigeon-jupyter) (0.2.0)\n",
      "Requirement already satisfied: jsonschema!=2.5.0,>=2.4 in /Users/rishikoushal/anaconda3/lib/python3.6/site-packages (from nbformat>=4.2.0->ipywidgets->pigeon-jupyter) (2.6.0)\n",
      "Requirement already satisfied: jupyter_core in /Users/rishikoushal/anaconda3/lib/python3.6/site-packages (from nbformat>=4.2.0->ipywidgets->pigeon-jupyter) (4.4.0)\n",
      "Requirement already satisfied: pexpect; sys_platform != \"win32\" in /Users/rishikoushal/anaconda3/lib/python3.6/site-packages (from ipython>=4.0.0; python_version >= \"3.3\"->ipywidgets->pigeon-jupyter) (4.6.0)\n",
      "Requirement already satisfied: prompt-toolkit<2.1.0,>=2.0.0 in /Users/rishikoushal/anaconda3/lib/python3.6/site-packages (from ipython>=4.0.0; python_version >= \"3.3\"->ipywidgets->pigeon-jupyter) (2.0.7)\n",
      "Requirement already satisfied: pygments in /Users/rishikoushal/anaconda3/lib/python3.6/site-packages (from ipython>=4.0.0; python_version >= \"3.3\"->ipywidgets->pigeon-jupyter) (2.3.1)\n",
      "Requirement already satisfied: decorator in /Users/rishikoushal/anaconda3/lib/python3.6/site-packages (from ipython>=4.0.0; python_version >= \"3.3\"->ipywidgets->pigeon-jupyter) (4.3.0)\n",
      "Requirement already satisfied: setuptools>=18.5 in /Users/rishikoushal/anaconda3/lib/python3.6/site-packages (from ipython>=4.0.0; python_version >= \"3.3\"->ipywidgets->pigeon-jupyter) (39.1.0)\n",
      "Requirement already satisfied: pickleshare in /Users/rishikoushal/anaconda3/lib/python3.6/site-packages (from ipython>=4.0.0; python_version >= \"3.3\"->ipywidgets->pigeon-jupyter) (0.7.5)\n",
      "Requirement already satisfied: backcall in /Users/rishikoushal/anaconda3/lib/python3.6/site-packages (from ipython>=4.0.0; python_version >= \"3.3\"->ipywidgets->pigeon-jupyter) (0.1.0)\n",
      "Requirement already satisfied: appnope; sys_platform == \"darwin\" in /Users/rishikoushal/anaconda3/lib/python3.6/site-packages (from ipython>=4.0.0; python_version >= \"3.3\"->ipywidgets->pigeon-jupyter) (0.1.0)\n",
      "Requirement already satisfied: jedi>=0.10 in /Users/rishikoushal/anaconda3/lib/python3.6/site-packages (from ipython>=4.0.0; python_version >= \"3.3\"->ipywidgets->pigeon-jupyter) (0.13.2)\n",
      "Requirement already satisfied: six in /Users/rishikoushal/anaconda3/lib/python3.6/site-packages (from traitlets>=4.3.1->ipywidgets->pigeon-jupyter) (1.10.0)\n",
      "Requirement already satisfied: terminado>=0.8.1 in /Users/rishikoushal/anaconda3/lib/python3.6/site-packages (from notebook>=4.4.1->widgetsnbextension~=3.4.0->ipywidgets->pigeon-jupyter) (0.8.1)\n",
      "Requirement already satisfied: pyzmq>=17 in /Users/rishikoushal/anaconda3/lib/python3.6/site-packages (from notebook>=4.4.1->widgetsnbextension~=3.4.0->ipywidgets->pigeon-jupyter) (17.1.2)\n",
      "Requirement already satisfied: prometheus-client in /Users/rishikoushal/anaconda3/lib/python3.6/site-packages (from notebook>=4.4.1->widgetsnbextension~=3.4.0->ipywidgets->pigeon-jupyter) (0.5.0)\n",
      "Requirement already satisfied: nbconvert in /Users/rishikoushal/anaconda3/lib/python3.6/site-packages (from notebook>=4.4.1->widgetsnbextension~=3.4.0->ipywidgets->pigeon-jupyter) (5.4.0)\n",
      "Requirement already satisfied: Send2Trash in /Users/rishikoushal/anaconda3/lib/python3.6/site-packages (from notebook>=4.4.1->widgetsnbextension~=3.4.0->ipywidgets->pigeon-jupyter) (1.5.0)\n",
      "Requirement already satisfied: jinja2 in /Users/rishikoushal/anaconda3/lib/python3.6/site-packages (from notebook>=4.4.1->widgetsnbextension~=3.4.0->ipywidgets->pigeon-jupyter) (2.10)\n",
      "Requirement already satisfied: python-dateutil>=2.1 in /Users/rishikoushal/anaconda3/lib/python3.6/site-packages (from jupyter-client->ipykernel>=4.5.1->ipywidgets->pigeon-jupyter) (2.7.5)\n",
      "Requirement already satisfied: ptyprocess>=0.5 in /Users/rishikoushal/anaconda3/lib/python3.6/site-packages (from pexpect; sys_platform != \"win32\"->ipython>=4.0.0; python_version >= \"3.3\"->ipywidgets->pigeon-jupyter) (0.6.0)\n",
      "Requirement already satisfied: wcwidth in /Users/rishikoushal/anaconda3/lib/python3.6/site-packages (from prompt-toolkit<2.1.0,>=2.0.0->ipython>=4.0.0; python_version >= \"3.3\"->ipywidgets->pigeon-jupyter) (0.1.7)\n",
      "Requirement already satisfied: parso>=0.3.0 in /Users/rishikoushal/anaconda3/lib/python3.6/site-packages (from jedi>=0.10->ipython>=4.0.0; python_version >= \"3.3\"->ipywidgets->pigeon-jupyter) (0.3.1)\n",
      "Requirement already satisfied: mistune>=0.8.1 in /Users/rishikoushal/anaconda3/lib/python3.6/site-packages (from nbconvert->notebook>=4.4.1->widgetsnbextension~=3.4.0->ipywidgets->pigeon-jupyter) (0.8.4)\n",
      "Requirement already satisfied: entrypoints>=0.2.2 in /Users/rishikoushal/anaconda3/lib/python3.6/site-packages (from nbconvert->notebook>=4.4.1->widgetsnbextension~=3.4.0->ipywidgets->pigeon-jupyter) (0.3)\n",
      "Requirement already satisfied: bleach in /Users/rishikoushal/anaconda3/lib/python3.6/site-packages (from nbconvert->notebook>=4.4.1->widgetsnbextension~=3.4.0->ipywidgets->pigeon-jupyter) (1.5.0)\n",
      "Requirement already satisfied: pandocfilters>=1.4.1 in /Users/rishikoushal/anaconda3/lib/python3.6/site-packages (from nbconvert->notebook>=4.4.1->widgetsnbextension~=3.4.0->ipywidgets->pigeon-jupyter) (1.4.2)\n",
      "Requirement already satisfied: testpath in /Users/rishikoushal/anaconda3/lib/python3.6/site-packages (from nbconvert->notebook>=4.4.1->widgetsnbextension~=3.4.0->ipywidgets->pigeon-jupyter) (0.4.2)\n",
      "Requirement already satisfied: defusedxml in /Users/rishikoushal/anaconda3/lib/python3.6/site-packages (from nbconvert->notebook>=4.4.1->widgetsnbextension~=3.4.0->ipywidgets->pigeon-jupyter) (0.5.0)\n",
      "Requirement already satisfied: MarkupSafe>=0.23 in /Users/rishikoushal/anaconda3/lib/python3.6/site-packages (from jinja2->notebook>=4.4.1->widgetsnbextension~=3.4.0->ipywidgets->pigeon-jupyter) (1.1.0)\n",
      "Requirement already satisfied: html5lib!=0.9999,!=0.99999,<0.99999999,>=0.999 in /Users/rishikoushal/anaconda3/lib/python3.6/site-packages (from bleach->nbconvert->notebook>=4.4.1->widgetsnbextension~=3.4.0->ipywidgets->pigeon-jupyter) (0.9999999)\n"
     ]
    }
   ],
   "source": [
    "!pip install pigeon-jupyter"
   ]
  },
  {
   "cell_type": "code",
   "execution_count": 2,
   "metadata": {},
   "outputs": [],
   "source": [
    "#Importing necessary libraries\n",
    "import pandas as pd\n",
    "import numpy as np\n",
    "from fastai.vision import *"
   ]
  },
  {
   "cell_type": "markdown",
   "metadata": {},
   "source": [
    "### Labeling the images, so that we avoid the false positives that are so certain.\n",
    "#Unlike other cells, you can try executing this below **2 cells** alone to understand how the labeling is done. If there's an error, do try to install the libraries given in the first two cells"
   ]
  },
  {
   "cell_type": "code",
   "execution_count": 1,
   "metadata": {},
   "outputs": [
    {
     "data": {
      "application/vnd.jupyter.widget-view+json": {
       "model_id": "af16609911cd454b9b394cff08258f83",
       "version_major": 2,
       "version_minor": 0
      },
      "text/plain": [
       "HTML(value='0 examples annotated, 177 examples left')"
      ]
     },
     "metadata": {},
     "output_type": "display_data"
    },
    {
     "data": {
      "application/vnd.jupyter.widget-view+json": {
       "model_id": "3f04d732694147d4af681372ca130635",
       "version_major": 2,
       "version_minor": 0
      },
      "text/plain": [
       "HBox(children=(Button(description='tRNA', style=ButtonStyle()), Button(description='miRNA', style=ButtonStyle(…"
      ]
     },
     "metadata": {},
     "output_type": "display_data"
    },
    {
     "data": {
      "application/vnd.jupyter.widget-view+json": {
       "model_id": "d0f3e0c49c254d289c5b1279297ee39e",
       "version_major": 2,
       "version_minor": 0
      },
      "text/plain": [
       "Output()"
      ]
     },
     "metadata": {},
     "output_type": "display_data"
    }
   ],
   "source": [
    "#Using multi label pigeon to label our data\n",
    "from multi_label_pigeon import multi_label_annotate\n",
    "from pigeon import annotate\n",
    "from IPython.display import display, Image\n",
    "images = []\n",
    "path = ''\n",
    "for i in range(0,176):\n",
    "    images.append(path + str(i)+'.png')\n",
    "\n",
    "annotations = annotate(images,\n",
    "    options=['tRNA','miRNA','Neither'],\n",
    "    display_fn=lambda filename: display(Image(filename))\n",
    "    )"
   ]
  },
  {
   "cell_type": "code",
   "execution_count": 2,
   "metadata": {},
   "outputs": [
    {
     "data": {
      "application/vnd.jupyter.widget-view+json": {
       "model_id": "986dbdc920324557826c58878f8a0317",
       "version_major": 2,
       "version_minor": 0
      },
      "text/plain": [
       "HTML(value='0 examples annotated, 177 examples left')"
      ]
     },
     "metadata": {},
     "output_type": "display_data"
    },
    {
     "data": {
      "application/vnd.jupyter.widget-view+json": {
       "model_id": "78321fb336c646938f85c141a4d401f2",
       "version_major": 2,
       "version_minor": 0
      },
      "text/plain": [
       "HBox(children=(Button(description='tRNA', style=ButtonStyle()), Button(description='miRNA', style=ButtonStyle(…"
      ]
     },
     "metadata": {},
     "output_type": "display_data"
    },
    {
     "data": {
      "application/vnd.jupyter.widget-view+json": {
       "model_id": "31499c6af9e9487090874d2e7dec9c39",
       "version_major": 2,
       "version_minor": 0
      },
      "text/plain": [
       "Output()"
      ]
     },
     "metadata": {},
     "output_type": "display_data"
    }
   ],
   "source": [
    "from multi_label_pigeon import multi_label_annotate\n",
    "from IPython.display import display, Image\n",
    "images = []\n",
    "path = 'miRNA/folds/'\n",
    "for i in range(0,176):\n",
    "    images.append(path + str(i)+'.png')\n",
    "\n",
    "annotations2 = annotate(images,\n",
    "    options=['tRNA','miRNA','Neither'],\n",
    "    display_fn=lambda filename: display(Image(filename))\n",
    "    )"
   ]
  },
  {
   "cell_type": "code",
   "execution_count": 4,
   "metadata": {},
   "outputs": [
    {
     "data": {
      "text/plain": [
       "[('tRNA/folds/0.png', 'miRNA'),\n",
       " ('tRNA/folds/1.png', 'tRNA'),\n",
       " ('tRNA/folds/2.png', 'miRNA'),\n",
       " ('tRNA/folds/3.png', 'tRNA'),\n",
       " ('tRNA/folds/4.png', 'Neither'),\n",
       " ('tRNA/folds/5.png', 'tRNA'),\n",
       " ('tRNA/folds/6.png', 'miRNA'),\n",
       " ('tRNA/folds/7.png', 'Neither'),\n",
       " ('tRNA/folds/8.png', 'miRNA'),\n",
       " ('tRNA/folds/9.png', 'tRNA')]"
      ]
     },
     "execution_count": 4,
     "metadata": {},
     "output_type": "execute_result"
    }
   ],
   "source": [
    "annotations"
   ]
  },
  {
   "cell_type": "markdown",
   "metadata": {},
   "source": [
    "### Creating a dataframe from the image name and the labels"
   ]
  },
  {
   "cell_type": "code",
   "execution_count": 37,
   "metadata": {
    "scrolled": true
   },
   "outputs": [],
   "source": [
    "names = []\n",
    "labels = []\n",
    "for i in annotations:\n",
    "    names.append(i[0].split('/')[0]+'/'+i[0].split('/')[-1])\n",
    "    labels.append(i[1])"
   ]
  },
  {
   "cell_type": "code",
   "execution_count": 38,
   "metadata": {},
   "outputs": [],
   "source": [
    "for i in annotations2:\n",
    "    names.append(i[0].split('/')[0]+'/'+i[0].split('/')[-1])\n",
    "    labels.append(i[1])"
   ]
  },
  {
   "cell_type": "code",
   "execution_count": 44,
   "metadata": {},
   "outputs": [],
   "source": [
    "data = list(zip(names,labels))\n",
    "df = pd.DataFrame(data, columns=['img', 'type'])"
   ]
  },
  {
   "cell_type": "code",
   "execution_count": 45,
   "metadata": {},
   "outputs": [
    {
     "data": {
      "text/html": [
       "<div>\n",
       "<style scoped>\n",
       "    .dataframe tbody tr th:only-of-type {\n",
       "        vertical-align: middle;\n",
       "    }\n",
       "\n",
       "    .dataframe tbody tr th {\n",
       "        vertical-align: top;\n",
       "    }\n",
       "\n",
       "    .dataframe thead th {\n",
       "        text-align: right;\n",
       "    }\n",
       "</style>\n",
       "<table border=\"1\" class=\"dataframe\">\n",
       "  <thead>\n",
       "    <tr style=\"text-align: right;\">\n",
       "      <th></th>\n",
       "      <th>img</th>\n",
       "      <th>type</th>\n",
       "    </tr>\n",
       "  </thead>\n",
       "  <tbody>\n",
       "    <tr>\n",
       "      <th>0</th>\n",
       "      <td>tRNA/0.png</td>\n",
       "      <td>tRNA</td>\n",
       "    </tr>\n",
       "    <tr>\n",
       "      <th>1</th>\n",
       "      <td>tRNA/1.png</td>\n",
       "      <td>tRNA</td>\n",
       "    </tr>\n",
       "    <tr>\n",
       "      <th>2</th>\n",
       "      <td>tRNA/2.png</td>\n",
       "      <td>tRNA</td>\n",
       "    </tr>\n",
       "    <tr>\n",
       "      <th>3</th>\n",
       "      <td>tRNA/3.png</td>\n",
       "      <td>tRNA</td>\n",
       "    </tr>\n",
       "    <tr>\n",
       "      <th>4</th>\n",
       "      <td>tRNA/4.png</td>\n",
       "      <td>tRNA</td>\n",
       "    </tr>\n",
       "  </tbody>\n",
       "</table>\n",
       "</div>"
      ],
      "text/plain": [
       "          img  type\n",
       "0  tRNA/0.png  tRNA\n",
       "1  tRNA/1.png  tRNA\n",
       "2  tRNA/2.png  tRNA\n",
       "3  tRNA/3.png  tRNA\n",
       "4  tRNA/4.png  tRNA"
      ]
     },
     "execution_count": 45,
     "metadata": {},
     "output_type": "execute_result"
    }
   ],
   "source": [
    "df.head()"
   ]
  },
  {
   "cell_type": "code",
   "execution_count": 46,
   "metadata": {},
   "outputs": [
    {
     "data": {
      "text/plain": [
       "miRNA    176\n",
       "tRNA     176\n",
       "Name: type, dtype: int64"
      ]
     },
     "execution_count": 46,
     "metadata": {},
     "output_type": "execute_result"
    }
   ],
   "source": [
    "df['type'].value_counts()"
   ]
  },
  {
   "cell_type": "code",
   "execution_count": 49,
   "metadata": {},
   "outputs": [],
   "source": [
    "a  = df.to_csv ('labels.csv')"
   ]
  },
  {
   "cell_type": "markdown",
   "metadata": {},
   "source": [
    "### Thus we have a dataset with images and labels, we can move on to building a model. "
   ]
  },
  {
   "cell_type": "markdown",
   "metadata": {},
   "source": [
    "# Step 3: Building the model"
   ]
  },
  {
   "cell_type": "code",
   "execution_count": 21,
   "metadata": {},
   "outputs": [],
   "source": [
    "# Using the fast ai ImageDataBunch to get the data. Since we have the folder structure, not using the labels. But \n",
    "# in future, we could use the labels"
   ]
  },
  {
   "cell_type": "code",
   "execution_count": 5,
   "metadata": {},
   "outputs": [],
   "source": [
    "path = 'assets/'\n",
    "np.random.seed(42)\n",
    "data = ImageDataBunch.from_folder(path, train='.',  valid_pct=0.2,\n",
    "                                  ds_tfms=get_transforms(),num_workers=0, size=256, bs=9)"
   ]
  },
  {
   "cell_type": "code",
   "execution_count": 6,
   "metadata": {},
   "outputs": [
    {
     "data": {
      "text/plain": [
       "['miRNA', 'tRNA']"
      ]
     },
     "execution_count": 6,
     "metadata": {},
     "output_type": "execute_result"
    }
   ],
   "source": [
    "#Look at the classes\n",
    "data.classes"
   ]
  },
  {
   "cell_type": "code",
   "execution_count": 7,
   "metadata": {},
   "outputs": [
    {
     "data": {
      "image/png": "[encoded data removed]",
      "text/plain": [
       "<Figure size 504x576 with 9 Axes>"
      ]
     },
     "metadata": {
      "needs_background": "light"
     },
     "output_type": "display_data"
    }
   ],
   "source": [
    "data.show_batch(rows=3, figsize=(7, 8))"
   ]
  },
  {
   "cell_type": "code",
   "execution_count": 8,
   "metadata": {},
   "outputs": [],
   "source": [
    "#Using a pre trained model resnet (34 layer) we create a model\n",
    "learn=cnn_learner(data, models.resnet34, metrics=accuracy)"
   ]
  },
  {
   "cell_type": "code",
   "execution_count": 9,
   "metadata": {},
   "outputs": [],
   "source": [
    "learn.freeze()"
   ]
  },
  {
   "cell_type": "code",
   "execution_count": 10,
   "metadata": {
    "scrolled": true
   },
   "outputs": [
    {
     "data": {
      "text/html": [],
      "text/plain": [
       "<IPython.core.display.HTML object>"
      ]
     },
     "metadata": {},
     "output_type": "display_data"
    },
    {
     "name": "stdout",
     "output_type": "stream",
     "text": [
      "LR Finder is complete, type {learner_name}.recorder.plot() to see the graph.\n"
     ]
    }
   ],
   "source": [
    "learn.lr_find()"
   ]
  },
  {
   "cell_type": "code",
   "execution_count": 11,
   "metadata": {},
   "outputs": [
    {
     "data": {
      "image/png": "[encoded data removed]",
      "text/plain": [
       "<Figure size 432x288 with 1 Axes>"
      ]
     },
     "metadata": {
      "needs_background": "light"
     },
     "output_type": "display_data"
    }
   ],
   "source": [
    "#We could see the curve for learning, which is not really smooth, but conisderable\n",
    "learn.recorder.plot()"
   ]
  },
  {
   "cell_type": "code",
   "execution_count": 12,
   "metadata": {},
   "outputs": [
    {
     "data": {
      "text/html": [
       "<table border=\"1\" class=\"dataframe\">\n",
       "  <thead>\n",
       "    <tr style=\"text-align: left;\">\n",
       "      <th>epoch</th>\n",
       "      <th>train_loss</th>\n",
       "      <th>valid_loss</th>\n",
       "      <th>accuracy</th>\n",
       "      <th>time</th>\n",
       "    </tr>\n",
       "  </thead>\n",
       "  <tbody>\n",
       "    <tr>\n",
       "      <td>0</td>\n",
       "      <td>1.320166</td>\n",
       "      <td>3.327554</td>\n",
       "      <td>0.666667</td>\n",
       "      <td>01:07</td>\n",
       "    </tr>\n",
       "    <tr>\n",
       "      <td>1</td>\n",
       "      <td>1.755873</td>\n",
       "      <td>2.612020</td>\n",
       "      <td>0.794872</td>\n",
       "      <td>01:05</td>\n",
       "    </tr>\n",
       "    <tr>\n",
       "      <td>2</td>\n",
       "      <td>1.673283</td>\n",
       "      <td>1.910981</td>\n",
       "      <td>0.794872</td>\n",
       "      <td>01:05</td>\n",
       "    </tr>\n",
       "    <tr>\n",
       "      <td>3</td>\n",
       "      <td>1.390082</td>\n",
       "      <td>1.557558</td>\n",
       "      <td>0.897436</td>\n",
       "      <td>01:04</td>\n",
       "    </tr>\n",
       "  </tbody>\n",
       "</table>"
      ],
      "text/plain": [
       "<IPython.core.display.HTML object>"
      ]
     },
     "metadata": {},
     "output_type": "display_data"
    }
   ],
   "source": [
    "#Fit one cycle on the data, with a specific learning rate range\n",
    "lr=5e-2\n",
    "learn.fit_one_cycle(4, slice(lr/10, lr))"
   ]
  },
  {
   "cell_type": "code",
   "execution_count": 13,
   "metadata": {},
   "outputs": [],
   "source": [
    "learn.unfreeze()"
   ]
  },
  {
   "cell_type": "code",
   "execution_count": 14,
   "metadata": {},
   "outputs": [
    {
     "data": {
      "text/html": [
       "<table border=\"1\" class=\"dataframe\">\n",
       "  <thead>\n",
       "    <tr style=\"text-align: left;\">\n",
       "      <th>epoch</th>\n",
       "      <th>train_loss</th>\n",
       "      <th>valid_loss</th>\n",
       "      <th>accuracy</th>\n",
       "      <th>time</th>\n",
       "    </tr>\n",
       "  </thead>\n",
       "  <tbody>\n",
       "    <tr>\n",
       "      <td>0</td>\n",
       "      <td>1.777407</td>\n",
       "      <td>9.094500</td>\n",
       "      <td>0.564103</td>\n",
       "      <td>01:27</td>\n",
       "    </tr>\n",
       "    <tr>\n",
       "      <td>1</td>\n",
       "      <td>1.648594</td>\n",
       "      <td>8.073348</td>\n",
       "      <td>0.794872</td>\n",
       "      <td>01:28</td>\n",
       "    </tr>\n",
       "    <tr>\n",
       "      <td>2</td>\n",
       "      <td>1.408859</td>\n",
       "      <td>3.334880</td>\n",
       "      <td>0.769231</td>\n",
       "      <td>01:25</td>\n",
       "    </tr>\n",
       "    <tr>\n",
       "      <td>3</td>\n",
       "      <td>1.276909</td>\n",
       "      <td>1.630657</td>\n",
       "      <td>0.871795</td>\n",
       "      <td>01:25</td>\n",
       "    </tr>\n",
       "  </tbody>\n",
       "</table>"
      ],
      "text/plain": [
       "<IPython.core.display.HTML object>"
      ]
     },
     "metadata": {},
     "output_type": "display_data"
    }
   ],
   "source": [
    "lr=5e-3\n",
    "learn.fit_one_cycle(4, slice(lr/10, lr))"
   ]
  },
  {
   "cell_type": "code",
   "execution_count": 15,
   "metadata": {},
   "outputs": [],
   "source": [
    "#Look for the confusion matrix and observe the false positives\n",
    "interp=ClassificationInterpretation.from_learner(learn)"
   ]
  },
  {
   "cell_type": "code",
   "execution_count": 16,
   "metadata": {},
   "outputs": [
    {
     "data": {
      "image/png": "[encoded data removed]",
      "text/plain": [
       "<Figure size 432x432 with 1 Axes>"
      ]
     },
     "metadata": {
      "needs_background": "light"
     },
     "output_type": "display_data"
    }
   ],
   "source": [
    "interp.plot_confusion_matrix(figsize=(6,6))"
   ]
  },
  {
   "cell_type": "code",
   "execution_count": 17,
   "metadata": {},
   "outputs": [
    {
     "data": {
      "image/png": "[encoded data removed]",
      "text/plain": [
       "<Figure size 864x576 with 9 Axes>"
      ]
     },
     "metadata": {
      "needs_background": "light"
     },
     "output_type": "display_data"
    }
   ],
   "source": [
    "#Helps us to analyze how the model has performed\n",
    "interp.plot_top_losses(k=9, figsize=(12, 8))"
   ]
  },
  {
   "cell_type": "code",
   "execution_count": 18,
   "metadata": {},
   "outputs": [
    {
     "data": {
      "application/vnd.jupyter.widget-view+json": {
       "model_id": "868baa36fc714bf69f321508f8514a0e",
       "version_major": 2,
       "version_minor": 0
      },
      "text/plain": [
       "HBox(children=(VBox(children=(Image(value=b'\\xff\\xd8\\xff\\xe0\\x00\\x10JFIF\\x00\\x01\\x01\\x01\\x00d\\x00d\\x00\\x00\\xff…"
      ]
     },
     "metadata": {},
     "output_type": "display_data"
    },
    {
     "data": {
      "application/vnd.jupyter.widget-view+json": {
       "model_id": "4fa16bdc78be410a94b5fbcfbc19fee4",
       "version_major": 2,
       "version_minor": 0
      },
      "text/plain": [
       "Button(button_style='primary', description='Next Batch', layout=Layout(width='auto'), style=ButtonStyle())"
      ]
     },
     "metadata": {},
     "output_type": "display_data"
    },
    {
     "data": {
      "text/plain": [
       "<fastai.widgets.image_cleaner.ImageCleaner at 0x1a37183a58>"
      ]
     },
     "execution_count": 18,
     "metadata": {},
     "output_type": "execute_result"
    }
   ],
   "source": [
    "# We can update our dataset by removing some images\n",
    "from fastai.widgets import *\n",
    "\n",
    "ds, idxs = DatasetFormatter().from_toplosses(learn)\n",
    "ImageCleaner(ds, idxs, path)"
   ]
  },
  {
   "cell_type": "markdown",
   "metadata": {},
   "source": [
    "## Conclusion and Comments:\n",
    "\n",
    "Though we obtained a fairly achievable model with ~90% accuracy, we face some problems in our data:\n",
    "\n",
    "1. We can see that there are a lot of miRNA images, but a very little tRNA images. We can improve a lot, if we have some more tRNA sequences\n",
    "\n",
    "2. We obtain the data from the gtrandb, who claim that there are some false positives in the sequence data. Thus, this could be a problem for us because when we fold those particular sequences, we won't get the clover shaped structure.\n",
    "\n",
    "3. A lot of tRNA aren't looking like a clover shaped structure, which might be a problem that stops the model performing better."
   ]
  },
  {
   "cell_type": "code",
   "execution_count": null,
   "metadata": {},
   "outputs": [],
   "source": []
  }
 ],
 "metadata": {
  "kernelspec": {
   "display_name": "Python 3",
   "language": "python",
   "name": "python3"
  },
  "language_info": {
   "codemirror_mode": {
    "name": "ipython",
    "version": 3
   },
   "file_extension": ".py",
   "mimetype": "text/x-python",
   "name": "python",
   "nbconvert_exporter": "python",
   "pygments_lexer": "ipython3",
   "version": "3.6.8"
  }
 },
 "nbformat": 4,
 "nbformat_minor": 2
}
